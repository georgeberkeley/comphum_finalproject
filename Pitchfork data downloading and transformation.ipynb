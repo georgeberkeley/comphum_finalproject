{
 "cells": [
  {
   "cell_type": "markdown",
   "metadata": {},
   "source": [
    "You can either download the pitchfork data directly or you can use the following command to do.\n",
    "\n",
    "The file is too big to add to Github. Just make sure it's in the data directory"
   ]
  },
  {
   "cell_type": "code",
   "execution_count": 1,
   "metadata": {},
   "outputs": [
    {
     "name": "stdout",
     "output_type": "stream",
     "text": [
      "--2020-10-30 14:32:57--  https://www.dropbox.com/s/wp8qr1elowcf3lm/pitchfork.db\n",
      "Resolving www.dropbox.com (www.dropbox.com)... 162.125.1.1\n",
      "Connecting to www.dropbox.com (www.dropbox.com)|162.125.1.1|:443... connected.\n",
      "HTTP request sent, awaiting response... 301 Moved Permanently\n",
      "Location: /s/raw/wp8qr1elowcf3lm/pitchfork.db [following]\n",
      "--2020-10-30 14:32:57--  https://www.dropbox.com/s/raw/wp8qr1elowcf3lm/pitchfork.db\n",
      "Reusing existing connection to www.dropbox.com:443.\n",
      "HTTP request sent, awaiting response... 302 Found\n",
      "Location: https://ucb0efd6c9e89938a332b4316359.dl.dropboxusercontent.com/cd/0/inline/BCTwOJ4eHQOyqpFptfSSs5Zhl0z0huFazSHnaenFMIeliKP-pbsuPuolADWkUgy_q6Au-6mOAMlAX2iuNkpmJkgZT1coD04ugF4PHKqoi3BvJw/file# [following]\n",
      "--2020-10-30 14:32:57--  https://ucb0efd6c9e89938a332b4316359.dl.dropboxusercontent.com/cd/0/inline/BCTwOJ4eHQOyqpFptfSSs5Zhl0z0huFazSHnaenFMIeliKP-pbsuPuolADWkUgy_q6Au-6mOAMlAX2iuNkpmJkgZT1coD04ugF4PHKqoi3BvJw/file\n",
      "Resolving ucb0efd6c9e89938a332b4316359.dl.dropboxusercontent.com (ucb0efd6c9e89938a332b4316359.dl.dropboxusercontent.com)... 162.125.1.15\n",
      "Connecting to ucb0efd6c9e89938a332b4316359.dl.dropboxusercontent.com (ucb0efd6c9e89938a332b4316359.dl.dropboxusercontent.com)|162.125.1.15|:443... connected.\n",
      "HTTP request sent, awaiting response... 302 Found\n",
      "Location: /cd/0/inline2/BCRsvpyPA-eWtcWiAc1QjMz_iii_PQ8ifhxYi5raZeOPUP58XNYZceoDkl3Mlmwp-YKO6n2gR4srp-sMqVJFYDOhRD52AW-uuUFHIFCWXQsWjVNGsoiOaoG1hpPejgXGYReyriKSya1BuZR_Un_jGDlHjnGCRttiCYOQxFEy5M_Q1fRCCiumR2DGYvWLpWCkIphHxLJUiILlKf5poMqIityj5KHyNh-Ggz9z5Yb3U9pakW7OAWQEzWfbOb5xu4B0j9mS31jm2OdSfaunYV1m46Hi--4JJfVHTSa0RdoE_ltHc3J316cPZvbIuhOkBGfmInw2m4RK-RaGtrzuVo52ayW-/file [following]\n",
      "--2020-10-30 14:32:58--  https://ucb0efd6c9e89938a332b4316359.dl.dropboxusercontent.com/cd/0/inline2/BCRsvpyPA-eWtcWiAc1QjMz_iii_PQ8ifhxYi5raZeOPUP58XNYZceoDkl3Mlmwp-YKO6n2gR4srp-sMqVJFYDOhRD52AW-uuUFHIFCWXQsWjVNGsoiOaoG1hpPejgXGYReyriKSya1BuZR_Un_jGDlHjnGCRttiCYOQxFEy5M_Q1fRCCiumR2DGYvWLpWCkIphHxLJUiILlKf5poMqIityj5KHyNh-Ggz9z5Yb3U9pakW7OAWQEzWfbOb5xu4B0j9mS31jm2OdSfaunYV1m46Hi--4JJfVHTSa0RdoE_ltHc3J316cPZvbIuhOkBGfmInw2m4RK-RaGtrzuVo52ayW-/file\n",
      "Reusing existing connection to ucb0efd6c9e89938a332b4316359.dl.dropboxusercontent.com:443.\n",
      "HTTP request sent, awaiting response... 200 OK\n",
      "Length: 105291776 (100M) [application/octet-stream]\n",
      "Saving to: ‘pitchfork.db’\n",
      "\n",
      "pitchfork.db        100%[===================>] 100.41M  11.1MB/s    in 11s     \n",
      "\n",
      "2020-10-30 14:33:10 (8.74 MB/s) - ‘pitchfork.db’ saved [105291776/105291776]\n",
      "\n"
     ]
    }
   ],
   "source": [
    "!wget https://www.dropbox.com/s/wp8qr1elowcf3lm/pitchfork.db "
   ]
  },
  {
   "cell_type": "code",
   "execution_count": 5,
   "metadata": {},
   "outputs": [
    {
     "data": {
      "text/plain": [
       "'Data/pitchfork.db'"
      ]
     },
     "execution_count": 5,
     "metadata": {},
     "output_type": "execute_result"
    }
   ],
   "source": [
    "# Moves pitchfork db file if you used wget to download it\n",
    "import shutil\n",
    "shutil.move(\"pitchfork.db\", \"Data/pitchfork.db\")"
   ]
  },
  {
   "cell_type": "markdown",
   "metadata": {},
   "source": [
    "Pitchfork data is a SQL database, so we use sqlite3 to load and query it"
   ]
  },
  {
   "cell_type": "code",
   "execution_count": 8,
   "metadata": {},
   "outputs": [],
   "source": [
    "p4k_file = \"data/pitchfork.db\""
   ]
  },
  {
   "cell_type": "code",
   "execution_count": 13,
   "metadata": {},
   "outputs": [],
   "source": [
    "#Install if you don't have it already \n",
    "#!pip3 install sqlite3"
   ]
  },
  {
   "cell_type": "code",
   "execution_count": 18,
   "metadata": {},
   "outputs": [],
   "source": [
    "import sqlite3\n",
    "import pandas as pd"
   ]
  },
  {
   "cell_type": "code",
   "execution_count": 19,
   "metadata": {},
   "outputs": [],
   "source": [
    "con = sqlite3.connect(p4k_file)"
   ]
  },
  {
   "cell_type": "code",
   "execution_count": 25,
   "metadata": {},
   "outputs": [
    {
     "data": {
      "text/html": [
       "<div>\n",
       "<style scoped>\n",
       "    .dataframe tbody tr th:only-of-type {\n",
       "        vertical-align: middle;\n",
       "    }\n",
       "\n",
       "    .dataframe tbody tr th {\n",
       "        vertical-align: top;\n",
       "    }\n",
       "\n",
       "    .dataframe thead th {\n",
       "        text-align: right;\n",
       "    }\n",
       "</style>\n",
       "<table border=\"1\" class=\"dataframe\">\n",
       "  <thead>\n",
       "    <tr style=\"text-align: right;\">\n",
       "      <th></th>\n",
       "      <th>artist</th>\n",
       "      <th>album</th>\n",
       "      <th>genre</th>\n",
       "      <th>score</th>\n",
       "      <th>date</th>\n",
       "      <th>author</th>\n",
       "      <th>role</th>\n",
       "      <th>review</th>\n",
       "      <th>bnm</th>\n",
       "      <th>link</th>\n",
       "    </tr>\n",
       "    <tr>\n",
       "      <th>id</th>\n",
       "      <th></th>\n",
       "      <th></th>\n",
       "      <th></th>\n",
       "      <th></th>\n",
       "      <th></th>\n",
       "      <th></th>\n",
       "      <th></th>\n",
       "      <th></th>\n",
       "      <th></th>\n",
       "      <th></th>\n",
       "    </tr>\n",
       "  </thead>\n",
       "  <tbody>\n",
       "    <tr>\n",
       "      <th>0</th>\n",
       "      <td>David Byrne</td>\n",
       "      <td>“…The Best Live Show of All Time” — NME EP</td>\n",
       "      <td>Rock</td>\n",
       "      <td>5.5</td>\n",
       "      <td>January 11 2019</td>\n",
       "      <td>Andy Beta</td>\n",
       "      <td>Contributor</td>\n",
       "      <td>Viva Brother, Terris, Mansun, the Twang, Joe L...</td>\n",
       "      <td>0</td>\n",
       "      <td>https://pitchfork.com/reviews/albums/david-byr...</td>\n",
       "    </tr>\n",
       "    <tr>\n",
       "      <th>1</th>\n",
       "      <td>DJ Healer</td>\n",
       "      <td>Lost Lovesongs / Lostsongs Vol. 2</td>\n",
       "      <td>Electronic</td>\n",
       "      <td>6.2</td>\n",
       "      <td>January 11 2019</td>\n",
       "      <td>Chal Ravens</td>\n",
       "      <td>Contributor</td>\n",
       "      <td>The Prince of Denmark—that is, the proper prin...</td>\n",
       "      <td>0</td>\n",
       "      <td>https://pitchfork.com/reviews/albums/dj-healer...</td>\n",
       "    </tr>\n",
       "    <tr>\n",
       "      <th>2</th>\n",
       "      <td>Jorge Velez</td>\n",
       "      <td>Roman Birds</td>\n",
       "      <td>Electronic</td>\n",
       "      <td>7.9</td>\n",
       "      <td>January 10 2019</td>\n",
       "      <td>Philip Sherburne</td>\n",
       "      <td>Contributing Editor</td>\n",
       "      <td>Jorge Velez has long been prolific, but that’s...</td>\n",
       "      <td>0</td>\n",
       "      <td>https://pitchfork.com/reviews/albums/jorge-vel...</td>\n",
       "    </tr>\n",
       "    <tr>\n",
       "      <th>3</th>\n",
       "      <td>Chandra</td>\n",
       "      <td>Transportation EPs</td>\n",
       "      <td>Rock</td>\n",
       "      <td>7.8</td>\n",
       "      <td>January 10 2019</td>\n",
       "      <td>Andy Beta</td>\n",
       "      <td>Contributor</td>\n",
       "      <td>When the Avalanches returned in 2016 after an ...</td>\n",
       "      <td>0</td>\n",
       "      <td>https://pitchfork.com/reviews/albums/chandra-t...</td>\n",
       "    </tr>\n",
       "    <tr>\n",
       "      <th>4</th>\n",
       "      <td>The Chainsmokers</td>\n",
       "      <td>Sick Boy</td>\n",
       "      <td>Electronic</td>\n",
       "      <td>3.1</td>\n",
       "      <td>January 9 2019</td>\n",
       "      <td>Larry Fitzmaurice</td>\n",
       "      <td>Contributor</td>\n",
       "      <td>We’re going to be stuck with the Chainsmokers ...</td>\n",
       "      <td>0</td>\n",
       "      <td>https://pitchfork.com/reviews/albums/the-chain...</td>\n",
       "    </tr>\n",
       "  </tbody>\n",
       "</table>\n",
       "</div>"
      ],
      "text/plain": [
       "              artist                                       album       genre  \\\n",
       "id                                                                             \n",
       "0        David Byrne  “…The Best Live Show of All Time” — NME EP        Rock   \n",
       "1          DJ Healer           Lost Lovesongs / Lostsongs Vol. 2  Electronic   \n",
       "2        Jorge Velez                                 Roman Birds  Electronic   \n",
       "3            Chandra                          Transportation EPs        Rock   \n",
       "4   The Chainsmokers                                    Sick Boy  Electronic   \n",
       "\n",
       "    score             date             author                 role  \\\n",
       "id                                                                   \n",
       "0     5.5  January 11 2019          Andy Beta          Contributor   \n",
       "1     6.2  January 11 2019        Chal Ravens          Contributor   \n",
       "2     7.9  January 10 2019   Philip Sherburne  Contributing Editor   \n",
       "3     7.8  January 10 2019          Andy Beta          Contributor   \n",
       "4     3.1   January 9 2019  Larry Fitzmaurice          Contributor   \n",
       "\n",
       "                                               review  bnm  \\\n",
       "id                                                           \n",
       "0   Viva Brother, Terris, Mansun, the Twang, Joe L...    0   \n",
       "1   The Prince of Denmark—that is, the proper prin...    0   \n",
       "2   Jorge Velez has long been prolific, but that’s...    0   \n",
       "3   When the Avalanches returned in 2016 after an ...    0   \n",
       "4   We’re going to be stuck with the Chainsmokers ...    0   \n",
       "\n",
       "                                                 link  \n",
       "id                                                     \n",
       "0   https://pitchfork.com/reviews/albums/david-byr...  \n",
       "1   https://pitchfork.com/reviews/albums/dj-healer...  \n",
       "2   https://pitchfork.com/reviews/albums/jorge-vel...  \n",
       "3   https://pitchfork.com/reviews/albums/chandra-t...  \n",
       "4   https://pitchfork.com/reviews/albums/the-chain...  "
      ]
     },
     "execution_count": 25,
     "metadata": {},
     "output_type": "execute_result"
    }
   ],
   "source": [
    "df = pd.read_sql_query(\"SELECT * FROM reviews\", con = con, index_col=[\"id\"])\n",
    "df.head()"
   ]
  },
  {
   "cell_type": "markdown",
   "metadata": {},
   "source": [
    "You can create document term matrics from LIWC features"
   ]
  },
  {
   "cell_type": "code",
   "execution_count": 38,
   "metadata": {},
   "outputs": [],
   "source": [
    "liwc={}\n",
    "with open(\"liwc.dictionary.txt\") as file:\n",
    "    for line in file:\n",
    "        cols=line.rstrip().split(\"\\t\")\n",
    "        word=cols[0]\n",
    "        liwcs=cols[1].split(\" \")\n",
    "        liwc[word]=liwcs"
   ]
  },
  {
   "cell_type": "code",
   "execution_count": 40,
   "metadata": {},
   "outputs": [],
   "source": [
    "from nltk.tokenize import RegexpTokenizer \n",
    "from sklearn.feature_extraction.text import CountVectorizer"
   ]
  },
  {
   "cell_type": "code",
   "execution_count": null,
   "metadata": {},
   "outputs": [],
   "source": []
  },
  {
   "cell_type": "code",
   "execution_count": 41,
   "metadata": {},
   "outputs": [],
   "source": [
    "tk = RegexpTokenizer('\\s+', gaps = True)\n",
    "def liwc_tokenizer(text):\n",
    "    text = text.lower()\n",
    "    tokens = tokenize(text)\n",
    "    \n",
    "    output = []\n",
    "    for word in tokens:\n",
    "        if word in liwc:\n",
    "            for l in liwc[word]:\n",
    "                output.append(l)\n",
    "    return output"
   ]
  },
  {
   "cell_type": "code",
   "execution_count": 43,
   "metadata": {},
   "outputs": [],
   "source": [
    "review_text = df.review\n",
    "cv = CountVectorizer(analyzer=liwc_tokenizer)\n",
    "dtm = cv.fit_transform(review_text)"
   ]
  },
  {
   "cell_type": "code",
   "execution_count": 48,
   "metadata": {},
   "outputs": [],
   "source": [
    "liwc_dtm = pd.DataFrame(dtm.toarray(), columns=cv.get_feature_names())"
   ]
  },
  {
   "cell_type": "code",
   "execution_count": null,
   "metadata": {},
   "outputs": [],
   "source": []
  }
 ],
 "metadata": {
  "kernelspec": {
   "display_name": "Python 3",
   "language": "python",
   "name": "python3"
  },
  "language_info": {
   "codemirror_mode": {
    "name": "ipython",
    "version": 3
   },
   "file_extension": ".py",
   "mimetype": "text/x-python",
   "name": "python",
   "nbconvert_exporter": "python",
   "pygments_lexer": "ipython3",
   "version": "3.7.7"
  }
 },
 "nbformat": 4,
 "nbformat_minor": 2
}
