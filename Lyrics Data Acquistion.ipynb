{
 "cells": [
  {
   "cell_type": "markdown",
   "metadata": {},
   "source": [
    "Download the billboardHot100_1999-2019.csv file from kaggle database https://www.kaggle.com/danield2255/data-on-songs-from-billboard-19992019"
   ]
  },
  {
   "cell_type": "markdown",
   "metadata": {},
   "source": [
    "This file has a lot of lyrics data. Whatever lyric data we can't get from it, we can use the follow lyrics api from Genius"
   ]
  },
  {
   "cell_type": "markdown",
   "metadata": {},
   "source": [
    "Use this link from their github for instructions on creating an account, getting api keys,\n",
    "and how to use their library.\n",
    "\n",
    "https://github.com/johnwmillr/lyricsgenius"
   ]
  },
  {
   "cell_type": "code",
   "execution_count": 15,
   "metadata": {},
   "outputs": [],
   "source": [
    "#You can grab your own access token from link https://genius.com/api-clients\n",
    "#Or use mine\n",
    "access_token = 'D31BxbhjpxmaCGkupnKep7pcAi191iU7yYrHbvHL61aENJBXHZK179Tu5RCvx9_X'"
   ]
  },
  {
   "cell_type": "code",
   "execution_count": 16,
   "metadata": {},
   "outputs": [
    {
     "name": "stdout",
     "output_type": "stream",
     "text": [
      "Searching for songs by Kanye West...\n",
      "\n",
      "Song 1: \".\"\n",
      "Song 2: \"’03 Bonnie & Clyde\"\n",
      "Song 3: \"’03 Til Infinity\"\n",
      "Song 4: \"100 Sheisty’s\"\n",
      "Song 5: \"12,000 Acres\"\n",
      "Song 6: \"18 Years\"\n",
      "Song 7: \"1996 Fat Beats Freestyle\"\n",
      "Song 8: \"2004 Tim Westwood Freestyle\"\n",
      "\"2013 Jimmy Kimmel Interview (Part 1)\" is not valid. Skipping.\n",
      "\"2013 Jimmy Kimmel Interview (Part 2)\" is not valid. Skipping.\n",
      "Song 9: \"2013 Yeezus Tour Dates\"\n",
      "\"2013 Zane Lowe BBC Radio Interview Part 1\" is not valid. Skipping.\n",
      "\"2013 Zane Lowe BBC Radio Interview Part 2\" is not valid. Skipping.\n",
      "Song 10: \"2014 Yeezus Tour Dates\"\n",
      "\n",
      "Reached user-specified song limit (10).\n",
      "Done. Found 10 songs.\n",
      "[('.', 'Kanye West'), ('’03 Bonnie & Clyde', 'JAY-Z'), ('’03 Til Infinity', 'Consequence'), ('100 Sheisty’s', 'Harlem World'), ('12,000 Acres', 'Kanye West'), ('18 Years', 'Kanye West'), ('1996 Fat Beats Freestyle', 'Kanye West'), ('2004 Tim Westwood Freestyle', 'Kanye West'), ('2013 Yeezus Tour Dates', 'Kanye West'), ('2014 Yeezus Tour Dates', 'Kanye West')]\n"
     ]
    }
   ],
   "source": [
    "import lyricsgenius\n",
    "genius = lyricsgenius.Genius(access_token)\n",
    "artist = genius.search_artist(\"Kanye West\", max_songs=10, sort=\"title\", include_features=True)\n",
    "print(artist.songs)"
   ]
  },
  {
   "cell_type": "code",
   "execution_count": 21,
   "metadata": {},
   "outputs": [],
   "source": [
    "s = artist.song(\"18 Years\")"
   ]
  },
  {
   "cell_type": "code",
   "execution_count": 24,
   "metadata": {},
   "outputs": [
    {
     "name": "stdout",
     "output_type": "stream",
     "text": [
      "[Intro: Mos Def & Kanye West]\n",
      "This next guest.. is my man\n",
      "Bringing him back, its a pleasure to have him here\n",
      "Please give it for my brother Kanye.. West\n",
      "Uh.. Let me start by..\n",
      "Thanking you know.. for allowing me to come back because this is one of the important days in the year to me... next to y'know Christmas, my mother's birthday and my birthday y'know\n",
      "Now here goes the story...\n",
      "My momma calls me and she says \"Baby, I'm down in Miami and they playin' your song all day long. You making a lot of money right now. So when you on the tour I know there's gonna be lot of girls out there tryna throw you their pussy\"\n",
      "(haha) I mean that's how my momma talks with me\n",
      "She says \"Baby, imma want you to put on three rubbers cause I don't want no girl out there fucking up our money\n",
      "\n",
      "[Verse: Kanye West]\n",
      "Eighteen years, eighteen years\n",
      "She got one of your kids, got you for eighteen years\n",
      "I know a nigga payin' child support for one of his kids\n",
      "His baby mama car and crib is bigger than his\n",
      "You will see him on TV any given Sunday\n",
      "Win the Super Bowl and drive off in a Hyundai\n",
      "She was supposed to buy your shorty Tyco with your money\n",
      "She went to the doctor, got lipo with your money\n",
      "She walkin' around lookin' like Michael with your money\n",
      "Should've got that insured, Geico for your money\n",
      "If you ain't no punk\n",
      "Holla, \"We want prenup! We want prenup!\" (Yeah!)\n",
      "It's somethin' that you need to have\n",
      "‘Cause when she leave yo' ass, she gon' leave with half\n",
      "Eighteen years, eighteen years\n",
      "She got one of your kids, got you for eighteen years\n",
      "And on the 18th birthday he found out it wasn't his!\n",
      "Maaan! he killed that bitch, they gave him 25 years, 25 years\n",
      "Yeah, yeah, yeah, yeah, yeah, yeah, yeah, yeah..\n"
     ]
    }
   ],
   "source": [
    "print(s.lyrics)"
   ]
  },
  {
   "cell_type": "code",
   "execution_count": 27,
   "metadata": {
    "scrolled": true
   },
   "outputs": [
    {
     "name": "stdout",
     "output_type": "stream",
     "text": [
      "Wrote `kanye.json`\n"
     ]
    }
   ],
   "source": [
    "#Saves lyrics data from the search results\n",
    "artist.save_lyrics(filename=\"kanye.json\")"
   ]
  },
  {
   "cell_type": "code",
   "execution_count": 28,
   "metadata": {},
   "outputs": [
    {
     "name": "stdout",
     "output_type": "stream",
     "text": [
      "Wrote 18 Years to 18 years.json.\n"
     ]
    }
   ],
   "source": [
    "#Saves lyrics data from the song\n",
    "s.save_lyrics(\"18 years.json\")"
   ]
  },
  {
   "cell_type": "code",
   "execution_count": null,
   "metadata": {},
   "outputs": [],
   "source": []
  }
 ],
 "metadata": {
  "kernelspec": {
   "display_name": "Python 3",
   "language": "python",
   "name": "python3"
  },
  "language_info": {
   "codemirror_mode": {
    "name": "ipython",
    "version": 3
   },
   "file_extension": ".py",
   "mimetype": "text/x-python",
   "name": "python",
   "nbconvert_exporter": "python",
   "pygments_lexer": "ipython3",
   "version": "3.7.7"
  }
 },
 "nbformat": 4,
 "nbformat_minor": 2
}
